{
 "cells": [
  {
   "cell_type": "markdown",
   "metadata": {},
   "source": [
    "___\n",
    "\n",
    "<a href='https://virasec.ir'> <img src='viraacademy-Logo.png' /></a>\n",
    "___\n"
   ]
  },
  {
   "cell_type": "markdown",
   "metadata": {},
   "source": [
    "# Functions in  Python"
   ]
  },
  {
   "cell_type": "code",
   "execution_count": null,
   "metadata": {},
   "outputs": [],
   "source": [
    "def my_function():\n",
    "  print(\"Hello from a function\")"
   ]
  },
  {
   "cell_type": "code",
   "execution_count": null,
   "metadata": {},
   "outputs": [],
   "source": [
    "my_function()"
   ]
  },
  {
   "cell_type": "code",
   "execution_count": null,
   "metadata": {},
   "outputs": [],
   "source": [
    "def my_function(fname):\n",
    "  print(fname + \" Gerami\")\n",
    "\n",
    "my_function(\"Mohammad Reza\")\n",
    "my_function(\"Darya\")\n",
    "my_function(\"Arya\")"
   ]
  },
  {
   "cell_type": "code",
   "execution_count": null,
   "metadata": {},
   "outputs": [],
   "source": [
    "def my_function(fname, lname):\n",
    "  print(fname + \" \" + lname)\n",
    "\n",
    "my_function(\"Darya\", \"Gerami\")"
   ]
  },
  {
   "cell_type": "code",
   "execution_count": null,
   "metadata": {},
   "outputs": [],
   "source": [
    "def my_function(fname, lname):\n",
    "  print(fname + \" \" + lname)\n",
    "\n",
    "my_function(\"Darya\")"
   ]
  },
  {
   "cell_type": "code",
   "execution_count": 8,
   "metadata": {},
   "outputs": [
    {
     "name": "stdout",
     "output_type": "stream",
     "text": [
      "1 2 3 4 5 6 7 8 9 10 \n",
      "2 4 6 8 10 12 14 16 18 20 \n",
      "3 6 9 12 15 18 21 24 27 30 \n",
      "4 8 12 16 20 24 28 32 36 40 \n",
      "5 10 15 20 25 30 35 40 45 50 \n",
      "6 12 18 24 30 36 42 48 54 60 \n",
      "7 14 21 28 35 42 49 56 63 70 \n",
      "8 16 24 32 40 48 56 64 72 80 \n",
      "9 18 27 36 45 54 63 72 81 90 \n",
      "10 20 30 40 50 60 70 80 90 100 \n"
     ]
    }
   ],
   "source": [
    "i = 1\n",
    "j = 1\n",
    "while i<=10:\n",
    "    while j<=10:\n",
    "        print(i * j , end=\" \")\n",
    "        #print('{:>4}'.format(i*j), end=' ')\n",
    "        j+=1\n",
    "    j = 1\n",
    "    i+=1\n",
    "    print()"
   ]
  },
  {
   "cell_type": "code",
   "execution_count": 10,
   "metadata": {},
   "outputs": [
    {
     "name": "stdout",
     "output_type": "stream",
     "text": [
      "   1    2    3    4    5    6    7    8    9   10 \n",
      "   2    4    6    8   10   12   14   16   18   20 \n",
      "   3    6    9   12   15   18   21   24   27   30 \n",
      "   4    8   12   16   20   24   28   32   36   40 \n",
      "   5   10   15   20   25   30   35   40   45   50 \n",
      "   6   12   18   24   30   36   42   48   54   60 \n",
      "   7   14   21   28   35   42   49   56   63   70 \n",
      "   8   16   24   32   40   48   56   64   72   80 \n",
      "   9   18   27   36   45   54   63   72   81   90 \n",
      "  10   20   30   40   50   60   70   80   90  100 \n"
     ]
    }
   ],
   "source": [
    "for i in range(1,11):\n",
    "    for j in range(1,11):\n",
    "        print(i * j,end=\" \")\n",
    "        #print('{:>4}'.format(i*j), end=' ')\n",
    "    print()"
   ]
  },
  {
   "cell_type": "code",
   "execution_count": 13,
   "metadata": {},
   "outputs": [
    {
     "name": "stdout",
     "output_type": "stream",
     "text": [
      "1 2 3 4 5 6 7 8 9 10 \n",
      "2 4 6 8 10 12 14 16 18 20 \n",
      "3 6 9 12 15 18 21 24 27 30 \n",
      "4 8 12 16 20 24 28 32 36 40 \n",
      "5 10 15 20 25 30 35 40 45 50 \n",
      "6 12 18 24 30 36 42 48 54 60 \n",
      "7 14 21 28 35 42 49 56 63 70 \n",
      "8 16 24 32 40 48 56 64 72 80 \n",
      "9 18 27 36 45 54 63 72 81 90 \n",
      "10 20 30 40 50 60 70 80 90 100 \n"
     ]
    }
   ],
   "source": [
    "def jzarb(row,col):\n",
    "    for i in range(1,row):\n",
    "        for j in range(1,col):\n",
    "            print(i * j,end=\" \")\n",
    "            #print('{:>4}'.format(i*j), end=' ')\n",
    "        print()\n",
    "        \n",
    "jzarb(11,11)\n"
   ]
  },
  {
   "cell_type": "code",
   "execution_count": 5,
   "metadata": {},
   "outputs": [
    {
     "name": "stdout",
     "output_type": "stream",
     "text": [
      "1 \n",
      "2 \n",
      "3 \n",
      "4 \n",
      "5 \n",
      "2 \n",
      "4 \n",
      "6 \n",
      "8 \n",
      "10 \n",
      "3 \n",
      "6 \n",
      "9 \n",
      "12 \n",
      "15 \n",
      "4 \n",
      "8 \n",
      "12 \n",
      "16 \n",
      "20 \n",
      "5 \n",
      "10 \n",
      "15 \n",
      "20 \n",
      "25 \n"
     ]
    }
   ],
   "source": [
    "def jadval_zarb(rows, columns):\n",
    "    for i in range(1,rows+1):\n",
    "        for j in range(1,columns+1):\n",
    "            print(i*j, end=' ')\n",
    "            #print('{:>4}'.format(i*j), end=' ')\n",
    "            print()\n",
    "            \n",
    "jadval_zarb(5, 5)\n",
    "            \n",
    "#def do_continue():\n",
    "#    choice = str(input('continue(y/n)?')).lower()\n",
    " #   if(choice !='y'):\n",
    " #       return False\n",
    " #   return True\n",
    "\n",
    "\n",
    "\n",
    "#while True:\n",
    "#    rows = int(input(\"Enter rows:\"))\n",
    "#    columns = int(input(\"Enter columns:\"))\n",
    "#    jadval_zarb(rows, columns)\n",
    "#    if(not do_continue()):\n",
    "#        break"
   ]
  },
  {
   "cell_type": "code",
   "execution_count": 17,
   "metadata": {},
   "outputs": [
    {
     "name": "stdout",
     "output_type": "stream",
     "text": [
      "Hellooo Vira 😀\n",
      "😀\n"
     ]
    }
   ],
   "source": [
    "def say_hello(name,emoji):\n",
    "    print(f'Hellooo {name} {emoji}')\n",
    "    print(\"\\N{grinning face}\") \n",
    "    \n",
    "say_hello('Vira',\"\\U0001f600\")"
   ]
  },
  {
   "cell_type": "raw",
   "metadata": {},
   "source": [
    "Using emoji module:\n",
    "\n",
    "Emojis can also be implemented by using the emoji module provided in Python. To install it run the following in the terminal.\n",
    "\n",
    "pip install emoji\n",
    "emojize() function requires the CLDR short name to be passed in it as the parameter. It then returns the corresponding emoji. Replace the spaces with underscore in the CLDR short name.\n",
    "\n",
    "filter_none\n",
    "brightness_4\n",
    "# import emoji module  \n",
    "import emoji \n",
    "  \n",
    "  \n",
    "print(emoji.emojize(\":grinning_face_with_big_eyes:\")) \n",
    "print(emoji.emojize(\":winking_face_with_tongue:\")) \n",
    "print(emoji.emojize(\":zipper-mouth_face:\")) "
   ]
  },
  {
   "cell_type": "code",
   "execution_count": null,
   "metadata": {},
   "outputs": [],
   "source": [
    "def my_function(*kids):\n",
    "  print(\"The youngest child is \" + kids[1])\n",
    "\n",
    "my_function(\"Reza\", \"Darya\", \"Arya\")"
   ]
  },
  {
   "cell_type": "code",
   "execution_count": null,
   "metadata": {},
   "outputs": [],
   "source": [
    "def varArguments(*args):\n",
    "    total = 0;\n",
    "    for number in args: \n",
    "        total = total + number;\n",
    "    return total;\n",
    "\n",
    "print(\"1 + 2 + 3 = {0}\".format(varArguments(1, 2, 3)));\n",
    "print(\"1 + 2 + 3 + 4 = {0}\".format(varArguments(1, 2, 3, 4)));\n",
    "print(\"1 + 2 + 3 + 4 + 5 = {0}\".format(varArguments(1, 2, 3, 4, 5)));"
   ]
  },
  {
   "cell_type": "code",
   "execution_count": null,
   "metadata": {},
   "outputs": [],
   "source": [
    "def varArguments(number, *args):\n",
    "    print(\"number = \", number);\n",
    "    print(\"args = \", args);\n",
    "\n",
    "\n",
    "varArguments(1, 2, 3);"
   ]
  },
  {
   "cell_type": "code",
   "execution_count": null,
   "metadata": {},
   "outputs": [],
   "source": [
    "def varArguments(number, *args):\n",
    "    print(\"number = {0}\".format(number)); \n",
    "    print(\"args = {0}\".format(args));\n",
    "\n",
    "varArguments(1, *(2,3,4), *(5,6,7,8));\n"
   ]
  },
  {
   "cell_type": "code",
   "execution_count": null,
   "metadata": {},
   "outputs": [],
   "source": [
    "def varArguments(**kwargs):\n",
    "    print(kwargs);\n",
    "\n",
    "varArguments(person1 = \" Darya \", person2 = \" Arya \", person3 = \" Reza \");\n"
   ]
  },
  {
   "cell_type": "code",
   "execution_count": null,
   "metadata": {},
   "outputs": [],
   "source": [
    "def highest_even(li):\n",
    "    evens = []\n",
    "    for item in li:\n",
    "        if item % 2 == 0:\n",
    "            evens.append(item)\n",
    "    return max(evens)\n"
   ]
  },
  {
   "cell_type": "code",
   "execution_count": null,
   "metadata": {},
   "outputs": [],
   "source": [
    "print(highest_even([10,2,3,4,8,11,15,13]))\n"
   ]
  },
  {
   "cell_type": "markdown",
   "metadata": {},
   "source": [
    "## More examples with quiz : https://virasec.ir/vlms"
   ]
  }
 ],
 "metadata": {
  "kernelspec": {
   "display_name": "Python 3",
   "language": "python",
   "name": "python3"
  },
  "language_info": {
   "codemirror_mode": {
    "name": "ipython",
    "version": 3
   },
   "file_extension": ".py",
   "mimetype": "text/x-python",
   "name": "python",
   "nbconvert_exporter": "python",
   "pygments_lexer": "ipython3",
   "version": "3.7.0"
  }
 },
 "nbformat": 4,
 "nbformat_minor": 2
}
