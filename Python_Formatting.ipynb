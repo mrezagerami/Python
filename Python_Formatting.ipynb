{
 "cells": [
  {
   "cell_type": "markdown",
   "metadata": {},
   "source": [
    "___\n",
    "\n",
    "<a href='https://virasec.ir'> <img src='viraacademy-Logo.png' /></a>\n",
    "___\n",
    "\n",
    "# Python Formatting"
   ]
  },
  {
   "cell_type": "markdown",
   "metadata": {},
   "source": [
    "# 1 - formatting-%"
   ]
  },
  {
   "cell_type": "markdown",
   "metadata": {},
   "source": [
    "\\t for TAB\n",
    "\n",
    "\\n for New line\n",
    "\n",
    "%s for Strings\n",
    "\n",
    "%d for Integer Numbers\n",
    "\n",
    "%f for Flotting Numbers"
   ]
  },
  {
   "cell_type": "markdown",
   "metadata": {},
   "source": [
    "\n",
    "<a href='https://virasec.ir'> <img src='Format-String-Int-Float-Align-List-Dict-in-Python.png' /></a>\n"
   ]
  },
  {
   "cell_type": "code",
   "execution_count": 16,
   "metadata": {},
   "outputs": [
    {
     "name": "stdout",
     "output_type": "stream",
     "text": [
      "Hello Python\n"
     ]
    }
   ],
   "source": [
    "name  = \"Python\"\n",
    "welcome_msg = \"Hello %s\" % name\n",
    "print(welcome_msg)"
   ]
  },
  {
   "cell_type": "code",
   "execution_count": 17,
   "metadata": {},
   "outputs": [
    {
     "name": "stdout",
     "output_type": "stream",
     "text": [
      "Hello, Eric. You are 74.\n"
     ]
    }
   ],
   "source": [
    "name = \"Eric\"\n",
    "age = 74\n",
    "msg = \"Hello, %s. You are %d.\" % (name, age)\n",
    "print(msg)"
   ]
  },
  {
   "cell_type": "markdown",
   "metadata": {},
   "source": [
    "# 2 - String Format"
   ]
  },
  {
   "cell_type": "code",
   "execution_count": 18,
   "metadata": {},
   "outputs": [
    {
     "name": "stdout",
     "output_type": "stream",
     "text": [
      "Hello, Eric. You are 74....\n"
     ]
    }
   ],
   "source": [
    "msg = \"Hello, {}. You are {}....\".format(name, age)\n",
    "print(msg)"
   ]
  },
  {
   "cell_type": "code",
   "execution_count": 19,
   "metadata": {},
   "outputs": [
    {
     "name": "stdout",
     "output_type": "stream",
     "text": [
      "Hello, Eric. You are 74.\n"
     ]
    }
   ],
   "source": [
    "msg = \"Hello, {1}. You are {0}.\".format(age, name)\n",
    "print(msg)"
   ]
  },
  {
   "cell_type": "code",
   "execution_count": 21,
   "metadata": {},
   "outputs": [
    {
     "name": "stdout",
     "output_type": "stream",
     "text": [
      "Hello, Reza. You are 37.\n"
     ]
    }
   ],
   "source": [
    "person = {'name': 'Reza', 'age': 37}\n",
    "msg = \"Hello, {name}. You are {age}.\".format(name=person['name'], age=person['age'])\n",
    "print(msg)"
   ]
  },
  {
   "cell_type": "code",
   "execution_count": 22,
   "metadata": {},
   "outputs": [
    {
     "data": {
      "text/plain": [
       "'Hello, Reza. You are 37.'"
      ]
     },
     "execution_count": 22,
     "metadata": {},
     "output_type": "execute_result"
    }
   ],
   "source": [
    "person = {'name': 'Reza', 'age': 37}\n",
    "\"Hello, {name}. You are {age}.\".format(**person)"
   ]
  },
  {
   "cell_type": "markdown",
   "metadata": {},
   "source": [
    "# 3 - F-String"
   ]
  },
  {
   "cell_type": "raw",
   "metadata": {},
   "source": [
    "Note:\n",
    "    \n",
    "    Python 3.6 and higger support this functionality\n",
    "    \n",
    "    f or F it's not important\n",
    "    \n",
    "    \"f\"This is a f-string\n",
    "    \n",
    "    \"F\"This is a f-string"
   ]
  },
  {
   "cell_type": "code",
   "execution_count": 23,
   "metadata": {},
   "outputs": [
    {
     "name": "stdout",
     "output_type": "stream",
     "text": [
      "Hello, Eric. You are 74.\n",
      "Hello, Eric. You are 74.\n"
     ]
    }
   ],
   "source": [
    "msg = f\"Hello, {name}. You are {age}.\"\n",
    "print(msg)\n",
    "msg = F\"Hello, {name}. You are {age}.\"\n",
    "print(msg)"
   ]
  },
  {
   "cell_type": "code",
   "execution_count": 25,
   "metadata": {},
   "outputs": [
    {
     "name": "stdout",
     "output_type": "stream",
     "text": [
      "\n",
      "Binary representation of 16 is \n",
      "101000\n"
     ]
    }
   ],
   "source": [
    "# Formatting of Integers\n",
    "#   128  64  32  16   8  4  2  1\n",
    "# 16 = 101000\n",
    "String1 = \"{0:b}\".format(40)\n",
    "print(\"\\nBinary representation of 16 is \")\n",
    "print(String1)"
   ]
  },
  {
   "cell_type": "code",
   "execution_count": 26,
   "metadata": {},
   "outputs": [
    {
     "name": "stdout",
     "output_type": "stream",
     "text": [
      "\n",
      "Exponent representation of 165.6458 is \n",
      "1.656458e+02\n"
     ]
    }
   ],
   "source": [
    "# Formatting of Floats\n",
    "String1 = \"{0:e}\".format(165.6458)\n",
    "print(\"\\nExponent representation of 165.6458 is \")\n",
    "print(String1)"
   ]
  },
  {
   "cell_type": "code",
   "execution_count": 27,
   "metadata": {},
   "outputs": [
    {
     "name": "stdout",
     "output_type": "stream",
     "text": [
      "Name: Python Participant\n",
      "Age: 1\n",
      "Occupation: Program Learners\n"
     ]
    }
   ],
   "source": [
    "name = 'Python Participant'\n",
    "age = 1\n",
    "occupation = 'Program Learners'\n",
    "msg = (\n",
    "    f'Name: {name}\\n'\n",
    "    f'Age: {age}\\n'\n",
    "    f'Occupation: {occupation}'\n",
    ")\n",
    "print(msg)"
   ]
  },
  {
   "cell_type": "code",
   "execution_count": 3,
   "metadata": {},
   "outputs": [
    {
     "name": "stdout",
     "output_type": "stream",
     "text": [
      "November 15, 2020\n"
     ]
    }
   ],
   "source": [
    "# Prints today's date with help \n",
    "# of datetime library \n",
    "import datetime \n",
    "\n",
    "today = datetime.datetime.today() \n",
    "print(f\"{today:%B %d, %Y}\") "
   ]
  },
  {
   "cell_type": "markdown",
   "metadata": {},
   "source": [
    "# Round values up and down: Python's round() function"
   ]
  },
  {
   "cell_type": "code",
   "execution_count": 28,
   "metadata": {},
   "outputs": [
    {
     "name": "stdout",
     "output_type": "stream",
     "text": [
      "8.333333333333334\n"
     ]
    }
   ],
   "source": [
    "a=7\n",
    "b=8\n",
    "c=10\n",
    "average=(a+b+c)/3\n",
    "print (average)"
   ]
  },
  {
   "cell_type": "code",
   "execution_count": 29,
   "metadata": {},
   "outputs": [
    {
     "name": "stdout",
     "output_type": "stream",
     "text": [
      "8.33\n"
     ]
    }
   ],
   "source": [
    "average=round((a+b+c)/3 , 2)\n",
    "print (average)"
   ]
  },
  {
   "cell_type": "code",
   "execution_count": 30,
   "metadata": {},
   "outputs": [
    {
     "name": "stdout",
     "output_type": "stream",
     "text": [
      "8\n"
     ]
    }
   ],
   "source": [
    "average=round((a+b+c)/3)\n",
    "print (average)"
   ]
  },
  {
   "cell_type": "code",
   "execution_count": 32,
   "metadata": {},
   "outputs": [
    {
     "name": "stdout",
     "output_type": "stream",
     "text": [
      "\n",
      "one-sixth is : \n",
      "0.16666666666666666\n"
     ]
    }
   ],
   "source": [
    "# Rounding off Integers\n",
    "String1 = 1/6\n",
    "print(\"\\none-sixth is : \")\n",
    "print(String1)"
   ]
  },
  {
   "cell_type": "code",
   "execution_count": 33,
   "metadata": {},
   "outputs": [
    {
     "name": "stdout",
     "output_type": "stream",
     "text": [
      "\n",
      "one-sixth is : \n",
      "0.17\n"
     ]
    }
   ],
   "source": [
    "# Rounding off Integers\n",
    "String1 = \"{0:.2f}\".format(1/6)\n",
    "print(\"\\none-sixth is : \")\n",
    "print(String1)"
   ]
  },
  {
   "cell_type": "code",
   "execution_count": 35,
   "metadata": {},
   "outputs": [
    {
     "name": "stdout",
     "output_type": "stream",
     "text": [
      "Mr. Mohammad Reza, Please visit our website virasec.ir. we are avaiable from 2010.\n"
     ]
    }
   ],
   "source": [
    "name = \"Mohammad Reza\"\n",
    "website = \"virasec.ir\"\n",
    "year = 2020\n",
    "message = f\"Mr. {name}, Please visit our website {website}. we are avaiable from {'2010' if year > 2019 else '2020'}.\"\n",
    "print(message)"
   ]
  },
  {
   "cell_type": "code",
   "execution_count": null,
   "metadata": {},
   "outputs": [],
   "source": []
  }
 ],
 "metadata": {
  "kernelspec": {
   "display_name": "Python 3",
   "language": "python",
   "name": "python3"
  },
  "language_info": {
   "codemirror_mode": {
    "name": "ipython",
    "version": 3
   },
   "file_extension": ".py",
   "mimetype": "text/x-python",
   "name": "python",
   "nbconvert_exporter": "python",
   "pygments_lexer": "ipython3",
   "version": "3.7.0"
  }
 },
 "nbformat": 4,
 "nbformat_minor": 2
}
